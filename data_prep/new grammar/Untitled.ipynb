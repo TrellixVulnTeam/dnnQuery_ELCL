{
 "cells": [
  {
   "cell_type": "code",
   "execution_count": 6,
   "metadata": {},
   "outputs": [
    {
     "name": "stdout",
     "output_type": "stream",
     "text": [
      "length = 2, total examples: 1\n",
      "length = 3, total examples: 111\n",
      "length = 5, total examples: 99\n",
      "length = 6, total examples: 739\n",
      "length = 7, total examples: 446\n",
      "length = 10, total examples: 490\n",
      "length = 11, total examples: 351\n",
      "length = 13, total examples: 3\n",
      "length = 14, total examples: 6\n",
      "length = 15, total examples: 109\n",
      "length = 19, total examples: 445\n"
     ]
    }
   ],
   "source": [
    "import numpy as np\n",
    "\n",
    "forms = []\n",
    "len_search = dict()\n",
    "with open('./rand_train.lo') as f:\n",
    "    for line in f:\n",
    "        tokens = line.split()\n",
    "        forms.append(tokens)\n",
    "        length = len(tokens)\n",
    "        if length not in len_search:\n",
    "            len_search[length] = 0\n",
    "        len_search[length] += 1\n",
    "\n",
    "for key in len_search.keys():\n",
    "    value = len_search[key]\n",
    "    print 'length = %d, total examples: %d' %(key, value)"
   ]
  },
  {
   "cell_type": "code",
   "execution_count": null,
   "metadata": {
    "collapsed": true
   },
   "outputs": [],
   "source": []
  }
 ],
 "metadata": {
  "kernelspec": {
   "display_name": "Python 2",
   "language": "python",
   "name": "python2"
  },
  "language_info": {
   "codemirror_mode": {
    "name": "ipython",
    "version": 2
   },
   "file_extension": ".py",
   "mimetype": "text/x-python",
   "name": "python",
   "nbconvert_exporter": "python",
   "pygments_lexer": "ipython2",
   "version": "2.7.11"
  }
 },
 "nbformat": 4,
 "nbformat_minor": 2
}
