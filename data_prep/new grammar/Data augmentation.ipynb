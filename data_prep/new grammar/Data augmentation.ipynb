{
 "cells": [
  {
   "cell_type": "markdown",
   "metadata": {},
   "source": [
    "# Data augmentation\n",
    "\n",
    "## 1 Current data statistics\n",
    "\n",
    "### We read in the files of queries, logical forms, and schema, and categorize them by length; within the same length, there would be subcategories"
   ]
  },
  {
   "cell_type": "code",
   "execution_count": 6,
   "metadata": {},
   "outputs": [
    {
     "name": "stdout",
     "output_type": "stream",
     "text": [
      "length = 2, total examples: 2\n",
      "length = 4, total examples: 156\n",
      "length = 6, total examples: 1253\n",
      "length = 7, total examples: 4\n",
      "length = 8, total examples: 624\n",
      "length = 10, total examples: 687\n",
      "length = 11, total examples: 697\n",
      "length = 12, total examples: 488\n"
     ]
    }
   ],
   "source": [
    "import numpy as np\n",
    "\n",
    "logic_category_len = dict()\n",
    "query_len = dict()\n",
    "schema_len = dict()\n",
    "with open('./rand.lo') as f_lo:\n",
    "    with open('./rand.qu') as f_qu:\n",
    "        with open('./rand.fi') as f_fi:\n",
    "            logic_line, query_line, schema_line = f_lo.readline(), f_qu.readline(), f_fi.readline()\n",
    "            while logic_line and query_line and schema_line:\n",
    "                logic = logic_line.split()\n",
    "#                 if len(logic) == 13:\n",
    "#                     if logic[4] == 'less':\n",
    "#                         logic[0] = 'argmax'\n",
    "#                     else:\n",
    "#                         logic[0] = 'argmin'\n",
    "#                     logic.insert(2, logic[3])\n",
    "                length = len(logic)\n",
    "#                 if length ==0:\n",
    "#                     continue\n",
    "                if length not in logic_category_len:\n",
    "                    logic_category_len[length] = []\n",
    "                    query_len[length] = []\n",
    "                    schema_len[length] = []\n",
    "                logic_category_len[length].append(logic_line)\n",
    "                query_len[length].append(query_line)\n",
    "                schema_len[length].append(schema_line)\n",
    "                logic_line, query_line, schema_line = f_lo.readline(), f_qu.readline(), f_fi.readline()\n",
    "for key in logic_category_len.keys():\n",
    "    value = logic_category_len[key]\n",
    "    print 'length = %d, total examples: %d' %(key, len(value))"
   ]
  },
  {
   "cell_type": "markdown",
   "metadata": {},
   "source": [
    "Have a look at the data:"
   ]
  },
  {
   "cell_type": "code",
   "execution_count": 7,
   "metadata": {},
   "outputs": [
    {
     "name": "stdout",
     "output_type": "stream",
     "text": [
      "what is the difference between the nations with the most and least amount of bronze medals\n",
      "\n",
      "how long in years has the this world series been occurring\n",
      "\n",
      "what is the difference between the nations with the most and least amount of gold medals\n",
      "\n",
      "what is the difference between the nations with the most and least amount of silver medals\n",
      "\n"
     ]
    }
   ],
   "source": [
    "for i in range(len(logic_category_len[7])):\n",
    "    print query_len[7][i]\n",
    "    #print logic_category_len[14][i]"
   ]
  },
  {
   "cell_type": "markdown",
   "metadata": {},
   "source": [
    "### Now we collect all different schema in a list for later use"
   ]
  },
  {
   "cell_type": "code",
   "execution_count": 8,
   "metadata": {},
   "outputs": [
    {
     "name": "stdout",
     "output_type": "stream",
     "text": [
      "Nation Rank Gold Silver Bronze Total\n",
      "\n",
      "Name Year_inducted Position Apps Goals\n",
      "\n",
      "Year 1st_Venue 2nd_Venue 3rd_Venue 4th_Venue 5th_Venue 6th_Venue\n",
      "\n",
      "Player Matches Innings Runs Average 100s 50s Games_Played Field_Goals Free_Throws Points\n",
      "\n",
      "Team County Wins Years_won Areas Prices\n",
      "\n",
      "Country Masters U.S._Open The_Open PGA Total\n",
      "\n",
      "Swara Position Short_name Notation Mnemonic\n",
      "\n",
      "State No._of_candidates No._of_elected Total_no._of_seats_in_Assembly Year_of_Election\n",
      "\n",
      "Discipline Amanda Bernie Javine_H Julia Michelle\n",
      "\n",
      "Nation Name Position League_Apps League_Goals FA_Cup_Apps FA_Cup_Goals Total_Apps Total_Goals\n",
      "\n",
      "Menteri_Besar Took_office Left_office Party\n",
      "\n"
     ]
    }
   ],
   "source": [
    "schema_collect = []\n",
    "with open('./rand.fi') as f_fi:\n",
    "    for line in f_fi:\n",
    "        if line in schema_collect:\n",
    "            continue\n",
    "        schema_collect.append(line)\n",
    "    \n",
    "for schema in schema_collect:\n",
    "    print schema"
   ]
  },
  {
   "cell_type": "markdown",
   "metadata": {},
   "source": [
    "## 2 Data Preparation and Generation\n",
    "\n",
    "### Next we do some data generation, the first goal is to double our current data size (8k~10k) \n",
    "\n",
    "As we previously did some work in the file ./data_prep/categorization.txt, we have several different sentences for a single length category. For each sentence structure, we first see whether it could applied to all or several schema, or just a single schema; then we tag each sentence, and for 'field' and 'value', we do data recombination for both query and logical forms; finally we add noise and replace synonyms in the queries to further complicate the sentence structrue.\n",
    "\n",
    "Let's start with the easiest length = 4:"
   ]
  },
  {
   "cell_type": "code",
   "execution_count": 15,
   "metadata": {},
   "outputs": [],
   "source": [
    "import os,sys,inspect\n",
    "\n",
    "currentdir = os.path.dirname(os.path.abspath(inspect.getfile(inspect.currentframe())))\n",
    "parentdir = os.path.dirname(currentdir)\n",
    "sys.path.insert(0,parentdir)\n",
    "\n",
    "import tagger as tg\n",
    "\n",
    "import os\n",
    "from nltk.parse import stanford\n",
    "from nltk import tree\n",
    "os.environ['STANFORD_PARSER'] = '/Users/richard_xiong/Documents/DeepLearningMaster/deep_parser'\n",
    "os.environ['STANFORD_MODELS'] = '/Users/richard_xiong/Documents/DeepLearningMaster/deep_parser'\n",
    "\n",
    "parser = stanford.StanfordParser(model_path='/Users/richard_xiong/Documents/DeepLearningMaster/deep_parser/englishPCFG.ser.gz')\n",
    "\n",
    "#parsequery = \"which nation has less than 6 <field:1> but its <field:2> medals are more than 14 \"\n",
    "#parsequery = \"when the <field:1> was beijing and <field:2> was dubai , which city was the most recent <field:4>\"\n",
    "#parsequery = \"for <field:0> with more than 400 <field:1> and <field:2> less than 14 , <field:0> has the most <field:3>\"\n",
    "# parsequery = \"which state had the largest <field:1>, and its <field:2> are within 12 and 15\"\n",
    "# dependency_tree = parser.raw_parse_sents(('Hello, My name is Melroy', parsequery))\n",
    "\n",
    "# for line in dependency_tree[1]:\n",
    "#     line.draw()"
   ]
  },
  {
   "cell_type": "code",
   "execution_count": 16,
   "metadata": {},
   "outputs": [
    {
     "name": "stdout",
     "output_type": "stream",
     "text": [
      "Nation Rank Gold Silver Bronze Total\n",
      "\n",
      "Name Year_inducted Position Apps Goals\n",
      "\n",
      "State Year_of_Election No._of_candidates No._of_elected Total_no._of_seats_in_Assembly \n",
      "\n",
      "Team Years_won County Wins Areas Prices \n",
      "\n",
      "Player Matches Innings Runs Average 100s 50s Games_Played Field_Goals Free_Throws Points \n",
      "\n",
      "Country Masters U.S._Open The_Open PGA Total\n",
      "\n",
      "Discipline Amanda Bernie Javine_H Julia Michelle \n",
      "\n",
      "Nation Name Position League_Apps League_Goals FA_Cup_Apps FA_Cup_Goals Total_Apps Total_Goals \n",
      "\n",
      "Swara Position Short_name Notation Mnemonic \n",
      "\n",
      "Year 1st_Venue 2nd_Venue 3rd_Venue 4th_Venue 5th_Venue 6th_Venue \n",
      "\n",
      "Menteri_Besar Took_office Left_office Party\n",
      "\n"
     ]
    }
   ],
   "source": [
    "schema_collect[2] = \"State Year_of_Election No._of_candidates No._of_elected Total_no._of_seats_in_Assembly \\n\"\n",
    "schema_collect[7] = \"Year 1st_Venue 2nd_Venue 3rd_Venue 4th_Venue 5th_Venue 6th_Venue \\n\"\n",
    "schema_collect[3] = \"Team Years_won County Wins Areas Prices \\n\"\n",
    "schema_collect[4] = \"Player Matches Innings Runs Average 100s 50s Games_Played Field_Goals Free_Throws Points \\n\"\n",
    "\n",
    "schema_collect[6] = \"Discipline Amanda Bernie Javine_H Julia Michelle \\n\"\n",
    "schema_collect[8] = \"Swara Position Short_name Notation Mnemonic \\n\"\n",
    "schema_collect[7] = \"Nation Name Position League_Apps League_Goals FA_Cup_Apps FA_Cup_Goals Total_Apps Total_Goals \\n\"\n",
    "schema_collect[9] = \"Year 1st_Venue 2nd_Venue 3rd_Venue 4th_Venue 5th_Venue 6th_Venue \\n\"\n",
    "\n",
    "for schema in schema_collect:\n",
    "    print schema"
   ]
  },
  {
   "cell_type": "markdown",
   "metadata": {},
   "source": [
    "### Conventions \n",
    "1. \"o\" stands for \"ordinal\" values, refering to schema_collect[0:4]\n",
    "2. \"n\" stands for \"numerical\" values, refering to schema_collect[4:8]\n",
    "3. \"s\" stands for \"string\" values, refering to schema_collect[7:]"
   ]
  },
  {
   "cell_type": "code",
   "execution_count": 19,
   "metadata": {},
   "outputs": [
    {
     "name": "stdout",
     "output_type": "stream",
     "text": [
      "['which country has the most pga championships', 'which country had the most number of wins', 'which country won the largest haul of bronze medals', 'who was the last de player', 'which nation received the largest amount of gold medals', 'the team with the most gold medals', 'which nation was ranked last', 'the country that won the most medals was', 'what is the largest matches amount']\n",
      "Country Masters U.S._Open The_Open PGA Total\n",
      "which country has the most pga championships\n",
      "['<field>', 'Country']\n",
      "['<field>', 'PGA']\n",
      "[(5, 1)]\n",
      "[]\n",
      "[(1, 0)]\n",
      "[]\n",
      "Country PGA\n",
      "<nan> <nan>\n",
      "which <field>:0 has the most <field>:1 championships\n",
      "argmax <field>:0 <field>:1\n"
     ]
    }
   ],
   "source": [
    "collect4max = \"\"\"which country has the most pga championships\n",
    "which country had the most number of wins\n",
    "which country won the largest haul of bronze medals\n",
    "who was the last de player\n",
    "which nation received the largest amount of gold medals\n",
    "the team with the most gold medals\n",
    "which nation was ranked last\n",
    "the country that won the most medals was\n",
    "what is the largest matches amount\"\"\".split('\\n')\n",
    "\n",
    "collect4min = \"\"\"who was the first nation\n",
    "what is the name of the first nation on this chart\n",
    "what is the name of the swara that holds the first position\n",
    "which country had the least bronze medals\n",
    "who scored the least on whitewater_kayak\n",
    "which state has the top no._of_elected amount\n",
    "who was the top scorer in innings\n",
    "what is the top listed player\n",
    "who is the top ranked nation\"\"\".split('\\n')\n",
    "\n",
    "print collect4max\n",
    "# idx = 0\n",
    "# for i in range(len(len3read)):\n",
    "#     idx += 1\n",
    "#     print \"====== example %d ======\" %idx\n",
    "#     tagged2, field_corr, value_corr, newquery, newlogical = \\\n",
    "#             tg.sentTagging_value(query_len[7][i], schema_len[7][i], logic_category_len[7][i])\n",
    "#     print logic_category_len[7][i]\n",
    "#     print schema_len[7][i]\n",
    "#     print query_len[7][i]\n",
    "#     print tagged2\n",
    "#     print field_corr\n",
    "#     print value_corr \n",
    "#     print newquery\n",
    "#     print newlogical\n",
    "#     print '\\n'\n",
    "\n",
    "lo4max = 'select <field>:0 argmax <field>:1'\n",
    "lo4min = 'select <field>:0 argmin <field>:1'\n",
    "\n",
    "print schema_collect[5], collect4max[0]\n",
    "tagged2, field_corr, value_corr, quTemp, _ = \\\n",
    "            tg.sentTagging_tree(parser, collect4max[0], schema_collect[5])\n",
    "print field_corr\n",
    "print value_corr \n",
    "print quTemp\n",
    "print lo4max"
   ]
  },
  {
   "cell_type": "markdown",
   "metadata": {},
   "source": [
    "### Note:\n",
    "Each sentence could then be turned into a query tempelate after tagging. Now we have the logical template, query template, and several available schema (annotated by 'o' 'n' 's'), so combined with the field_corr and value_corr files we should be able to generate multiple sentences according to several schema."
   ]
  },
  {
   "cell_type": "code",
   "execution_count": 22,
   "metadata": {},
   "outputs": [
    {
     "name": "stdout",
     "output_type": "stream",
     "text": [
      "['<field>', '0']\n",
      "['<field>', '1']\n",
      "[(1, '0'), (5, '1')] []\n",
      "['<field>', '0']\n",
      "['<field>', '1']\n",
      "[(1, '0'), (2, '1')] []\n"
     ]
    },
    {
     "data": {
      "text/plain": [
       "([], [], [])"
      ]
     },
     "execution_count": 22,
     "metadata": {},
     "output_type": "execute_result"
    }
   ],
   "source": [
    "import tag_utils as tu\n",
    "\n",
    "def schemaRecommend(field_corr_old, special_code):\n",
    "    ''' From the old generated field correspondence (string), transform to a new field correspondence, \n",
    "        represented by a list value_types, and from the set of value types to get the possible schemas \n",
    "        (PLURALS) that could use for augmentation later\n",
    "        arguments --- special_code: might be used to indicate that the schema is not tranferrable.\n",
    "        return --- field_corr: a list of value_types\n",
    "                   schemas: several schema that the template could augment to.\n",
    "    '''\n",
    "    return field_corr_new, schemas\n",
    "\n",
    "field_corr_new = ['string', 'int']\n",
    "\n",
    "def augment4max(quTemp, loTemp, field_corr=None, schemas=None):\n",
    "    ''' Data augmentation from a pair of query template and logical template\n",
    "        arguments --- field_corr: a list of value_types e.g. ['string','ordinal','int'], each idx should \n",
    "                      correspond to the postion in the templates\n",
    "                      schemas: PLURALS HERE! several schemas that the template could augment to.\n",
    "        return --- collections of queries, logics, and fields\n",
    "    '''\n",
    "    queryCollect, logicCollect, fieldCollect = [], [], []\n",
    "    \n",
    "    # Step 1: preparation\n",
    "    query = quTemp.split()\n",
    "    logic = loTemp.split()\n",
    "    qu_field = []  # positions of field in query\n",
    "    qu_value = []  # positions of value in query\n",
    "    lo_field = []  # positions of field in logic\n",
    "    lo_value = []  # positions of value in logic\n",
    "    for i in range(len(query)):\n",
    "        reference = query[i].split(':')\n",
    "        if len(reference) == 1:\n",
    "            continue\n",
    "        print reference\n",
    "        idx = reference[1]\n",
    "        if reference[0] == '<field>':\n",
    "            qu_field.append((i, idx))\n",
    "        else:\n",
    "            qu_value.append((i, idx))\n",
    "    print qu_field, qu_value\n",
    "    for i in range(len(logic)):\n",
    "        reference = logic[i].split(':')\n",
    "        if len(reference) == 1:\n",
    "            continue\n",
    "        print reference\n",
    "        idx = reference[1]\n",
    "        if reference[0] == '<field>':\n",
    "            lo_field.append((i, idx))\n",
    "        else:\n",
    "            lo_value.append((i, idx))\n",
    "    print lo_field, lo_value\n",
    "    \n",
    "    return queryCollect, logicCollect, fieldCollect\n",
    "\n",
    "augment4max(quTemp, lo4max)"
   ]
  },
  {
   "cell_type": "code",
   "execution_count": null,
   "metadata": {
    "collapsed": true
   },
   "outputs": [],
   "source": []
  }
 ],
 "metadata": {
  "kernelspec": {
   "display_name": "Python 2",
   "language": "python",
   "name": "python2"
  },
  "language_info": {
   "codemirror_mode": {
    "name": "ipython",
    "version": 2
   },
   "file_extension": ".py",
   "mimetype": "text/x-python",
   "name": "python",
   "nbconvert_exporter": "python",
   "pygments_lexer": "ipython2",
   "version": "2.7.11"
  }
 },
 "nbformat": 4,
 "nbformat_minor": 2
}
