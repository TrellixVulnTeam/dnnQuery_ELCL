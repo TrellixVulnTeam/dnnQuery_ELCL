{
 "cells": [
  {
   "cell_type": "code",
   "execution_count": 7,
   "metadata": {},
   "outputs": [
    {
     "name": "stdout",
     "output_type": "stream",
     "text": [
      "length = 2, total examples: 1\n",
      "length = 3, total examples: 111\n",
      "length = 5, total examples: 99\n",
      "length = 6, total examples: 739\n",
      "length = 7, total examples: 446\n",
      "length = 10, total examples: 490\n",
      "length = 11, total examples: 351\n",
      "length = 13, total examples: 3\n",
      "length = 14, total examples: 6\n",
      "length = 15, total examples: 109\n",
      "length = 19, total examples: 445\n"
     ]
    }
   ],
   "source": [
    "import numpy as np\n",
    "\n",
    "forms = []\n",
    "len_search = dict()\n",
    "with open('./rand_train.lo') as f:\n",
    "    for line in f:\n",
    "        tokens = line.split()\n",
    "        forms.append(tokens)\n",
    "        length = len(tokens)\n",
    "        if length not in len_search:\n",
    "            len_search[length] = []\n",
    "        len_search[length].append(line)\n",
    "\n",
    "for key in len_search.keys():\n",
    "    value = len_search[key]\n",
    "    print 'length = %d, total examples: %d' %(key, len(value))"
   ]
  },
  {
   "cell_type": "code",
   "execution_count": 15,
   "metadata": {},
   "outputs": [
    {
     "name": "stdout",
     "output_type": "stream",
     "text": [
      "argmax Bronze Bronze as A argmin Bronze Bronze as B diff A B\n",
      "\n",
      "argmax Year Year as A argmin Year Year as B diff A B\n",
      "\n",
      "argmax Gold Gold as A argmin Gold Gold as B diff A B\n",
      "\n"
     ]
    }
   ],
   "source": [
    "def renew19(line):\n",
    "    tokens = line.split()\n",
    "    newtokens = [x for x in tokens[:-1]]\n",
    "    newtokens[0] = tokens[16]\n",
    "    newtokens[1:3] = ['A', 'as']\n",
    "    newtokens[3:5] = tokens[4:6]\n",
    "    newtokens[5:9] = tokens[0:4]\n",
    "    newtokens[9:12] = ['and', 'B', 'as']\n",
    "    #newtokens[12:14] = tokens[12:14]\n",
    "    newtokens[14:] = tokens[8:12]\n",
    "    newline = ' '.join(newtokens)\n",
    "    return newline\n",
    "\n",
    "def renew15(line):\n",
    "    tokens = line.split()\n",
    "    newtokens = [x for x in tokens[:-1]]\n",
    "    newtokens[0:3] = tokens[12:]\n",
    "    newtokens[3:7] = tokens[8:12]\n",
    "    newtokens[7] = 'as'\n",
    "    newtokens[8:10] = tokens[4:6]\n",
    "    newtokens[10:] = tokens[0:4]\n",
    "    newline = ' '.join(newtokens)\n",
    "    return newline\n",
    "\n",
    "def renew14(line):\n",
    "    tokens = line.split()\n",
    "    newtokens = [x for x in tokens[:-1]]\n",
    "    newtokens[0:2] = tokens[12:]\n",
    "    newtokens[2:6] = tokens[8:12]\n",
    "    newtokens[6] = 'as'\n",
    "    newtokens[7:9] = tokens[4:6]\n",
    "    newtokens[9:] = tokens[0:4]\n",
    "    newline = ' '.join(newtokens)\n",
    "    return newline\n",
    "\n",
    "for line in len_search[13]:\n",
    "    print line\n",
    "    tokens = line.split()\n",
    "#     newline = renew14(line)\n",
    "#     print newline"
   ]
  },
  {
   "cell_type": "code",
   "execution_count": null,
   "metadata": {
    "collapsed": true
   },
   "outputs": [],
   "source": []
  }
 ],
 "metadata": {
  "kernelspec": {
   "display_name": "Python 2",
   "language": "python",
   "name": "python2"
  },
  "language_info": {
   "codemirror_mode": {
    "name": "ipython",
    "version": 2
   },
   "file_extension": ".py",
   "mimetype": "text/x-python",
   "name": "python",
   "nbconvert_exporter": "python",
   "pygments_lexer": "ipython2",
   "version": "2.7.11"
  }
 },
 "nbformat": 4,
 "nbformat_minor": 2
}
