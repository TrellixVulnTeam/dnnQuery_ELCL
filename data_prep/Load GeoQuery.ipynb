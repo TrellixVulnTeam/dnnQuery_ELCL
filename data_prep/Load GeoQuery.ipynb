{
 "cells": [
  {
   "cell_type": "markdown",
   "metadata": {},
   "source": [
    "# Load GeoQuery Dataset\n",
    "\n",
    "### GeoQuery dataset property:\n",
    "1. logic forms are different (probably could rewrite ourselves)\n",
    "2. We have could parse to get the query\n",
    "3. Table schema we have\n",
    "\n",
    "\n",
    "### Following is a description of the geobase predicates:\n",
    "\n",
    "state(name, abbreviation, capital, population, area, state_number, city1, city2, city3, city4)\n",
    "\n",
    "city(state, state_abbreviation, name, population)\n",
    "\n",
    "river(name, length, [states through which it flows])\n",
    "\n",
    "border(state, state_abbreviation, [states that border it])\n",
    "\n",
    "highlow(state, state_abbreviation, highest_point, highest_elevation, lowest_point, lowest_elevation)\n",
    "\n",
    "mountain(state, state_abbreviation, name, height)\n",
    "\n",
    "road(number, [states it passes through])\n",
    "\n",
    "lake(name, area, [states it is in])\n",
    "\n",
    "\n",
    "### We can change to the format we want:\n",
    "\n",
    "state, abbreviation, capital, population, area, state_number, cities, border, highest_point, highest_elevation, lowest_point, lowest_elevation, rivers, mountains, roads\n",
    "\n",
    "city, state, state_abbreviation, population\n",
    "\n",
    "mountain, state, state_abbreviation, height\n",
    "\n",
    "river, length, [states through which it flows]\n",
    "\n",
    "road, [states it passes through]\n",
    "\n",
    "lake, area, [states it is in]\n",
    "\n",
    "\n",
    "### How to do that? Transform a graph-structure knowledge base to table-like is easy.\n",
    "1. Read in 'base' file to get all the values\n",
    "2. structured graph to table\n",
    "3. analyze logical forms and rewrite\n",
    "4. data augmentation and train"
   ]
  },
  {
   "cell_type": "code",
   "execution_count": null,
   "metadata": {
    "collapsed": true
   },
   "outputs": [],
   "source": []
  }
 ],
 "metadata": {
  "kernelspec": {
   "display_name": "Python 2",
   "language": "python",
   "name": "python2"
  },
  "language_info": {
   "codemirror_mode": {
    "name": "ipython",
    "version": 2
   },
   "file_extension": ".py",
   "mimetype": "text/x-python",
   "name": "python",
   "nbconvert_exporter": "python",
   "pygments_lexer": "ipython2",
   "version": "2.7.11"
  }
 },
 "nbformat": 4,
 "nbformat_minor": 2
}
