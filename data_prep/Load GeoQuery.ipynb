{
 "cells": [
  {
   "cell_type": "markdown",
   "metadata": {},
   "source": [
    "# Load GeoQuery Dataset\n",
    "\n",
    "### GeoQuery dataset property:\n",
    "1. logic forms are different (probably could rewrite ourselves)\n",
    "2. We have could parse to get the query\n",
    "3. Cross-schema questions (e.g. \"what,are,the,populations,of,all,the,major,cities,in,montana\",\"which,capitals,are,in,the,states,that,border,texas\")\n",
    "--- Solution: create two logical predicates: 'border' and 'in': states border states, cities in states; type 'array' with new predicate\n",
    "\n",
    "\n",
    "### Following is a description of the geobase predicates:\n",
    "\n",
    "state(name, abbreviation, capital, population, area, state_number, city1, city2, city3, city4)\n",
    "\n",
    "city(state, state_abbreviation, name, population)\n",
    "\n",
    "river(name, length, [states through which it flows])\n",
    "\n",
    "border(state, state_abbreviation, [states that border it])\n",
    "\n",
    "highlow(state, state_abbreviation, highest_point, highest_elevation, lowest_point, lowest_elevation)\n",
    "\n",
    "mountain(state, state_abbreviation, name, height)\n",
    "\n",
    "road(number, [states it passes through])\n",
    "\n",
    "lake(name, area, [states it is in])\n",
    "\n",
    "\n",
    "### We can change to the format we want:\n",
    "\n",
    "state, abbreviation, capital, population, area, state_number, major_cities, states_border, highest_point, highest_elevation, lowest_point, lowest_elevation, rivers, mountains, lakes\n",
    "\n",
    "city, state, abbreviation, population\n",
    "\n",
    "mountain, state, abbreviation, height\n",
    "\n",
    "river, length, states_through\n",
    "\n",
    "(road, states_through) (No questions)\n",
    "\n",
    "lake, area, states_in\n",
    "\n",
    "\n",
    "### How to do that? Transform a graph-structure knowledge base to table-like is easy.\n",
    "1. Read in 'base' file to get all the values\n",
    "2. structured graph to table\n",
    "3. analyze logical forms and rewrite\n",
    "4. data augmentation and train"
   ]
  },
  {
   "cell_type": "code",
   "execution_count": 10,
   "metadata": {},
   "outputs": [],
   "source": [
    "import numpy as np\n",
    "import re\n",
    "\n",
    "def strIsNum(s):\n",
    "    '''verify if the word represent a numerical value\n",
    "    ''' \n",
    "    if not isinstance(s, basestring):\n",
    "        return 0\n",
    "    ones = {\"zero\", \"one\", \"two\", \"three\", \"four\", \"five\", \"six\", \"seven\", \"eight\", \"nine\"}\n",
    "    tens = {\"twenty\", \"thirty\", \"forty\", \"fifty\", \"sixty\", \"seventy\", \"eighty\", \"ninety\"}\n",
    "    teens = {\"ten\", \"eleven\", \"twelve\", \"thirteen\", \"fourteen\", \"fifteen\", \"sixteen\", \\\n",
    "            \"seventeen\", \"eighteen\", \"nineteen\"}\n",
    "    levels = {\"hundred\", \"thousand\", \"million\", \"billion\", \"trillion\"}\n",
    "    if s in ones:\n",
    "        return True \n",
    "    if s in tens:\n",
    "        return True \n",
    "    if s in teens:\n",
    "        return True \n",
    "    if s in levels:\n",
    "        return True \n",
    "    if s.isdigit():\n",
    "        return True #return int(s)\n",
    "    # for float value\n",
    "    try:\n",
    "        x = float(s)\n",
    "        return True\n",
    "    except ValueError:\n",
    "        return False\n",
    "    return False\n"
   ]
  },
  {
   "cell_type": "code",
   "execution_count": 11,
   "metadata": {},
   "outputs": [
    {
     "name": "stdout",
     "output_type": "stream",
     "text": [
      "state\n",
      "[\"'alabama','al','montgomery',3894.0e+3,51.7e+3,22,'birmingham','mobile','montgomery','huntsville'\"]\n"
     ]
    },
    {
     "data": {
      "text/plain": [
       "True"
      ]
     },
     "execution_count": 11,
     "metadata": {},
     "output_type": "execute_result"
    }
   ],
   "source": [
    "#f = open('./')\n",
    "s = \"state('alabama','al','montgomery',3894.0e+3,51.7e+3,22,'birmingham','mobile','montgomery','huntsville').\"\n",
    "m = re.findall(r'\\(([^()]+)\\)', s)\n",
    "\n",
    "entity = s[:s.find(\"(\")]\n",
    "\n",
    "print entity\n",
    "print m\n",
    "strIsNum('3894.0e+3')"
   ]
  },
  {
   "cell_type": "code",
   "execution_count": null,
   "metadata": {
    "collapsed": true
   },
   "outputs": [],
   "source": []
  }
 ],
 "metadata": {
  "kernelspec": {
   "display_name": "Python 2",
   "language": "python",
   "name": "python2"
  },
  "language_info": {
   "codemirror_mode": {
    "name": "ipython",
    "version": 2
   },
   "file_extension": ".py",
   "mimetype": "text/x-python",
   "name": "python",
   "nbconvert_exporter": "python",
   "pygments_lexer": "ipython2",
   "version": "2.7.11"
  }
 },
 "nbformat": 4,
 "nbformat_minor": 2
}
